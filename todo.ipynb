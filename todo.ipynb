{
 "cells": [
  {
   "cell_type": "code",
   "execution_count": null,
   "metadata": {},
   "outputs": [],
   "source": [
    "tasks = []\n",
    "options = ['Add Task', 'Mark Task as Completed', 'List Tasks', 'Remove Task', 'Quit']\n",
    "\n",
    "for num, option in enumerate(options):\n",
    "    print(f\"{num + 1}. {option}\")"
   ]
  },
  {
   "cell_type": "code",
   "execution_count": null,
   "metadata": {},
   "outputs": [],
   "source": [
    "option = int(input(\"Enter an option: \"))\n",
    "if option == 0:\n",
    "    task = input(\"Enter a task: \")\n",
    "    tasks.append(task)\n",
    "elif option == 1:\n",
    "    index = int(input(\"Enter task index: \"))\n",
    "    mark_completed(index)\n",
    "    "
   ]
  }
 ],
 "metadata": {
  "kernelspec": {
   "display_name": ".venv",
   "language": "python",
   "name": "python3"
  },
  "language_info": {
   "codemirror_mode": {
    "name": "ipython",
    "version": 3
   },
   "file_extension": ".py",
   "mimetype": "text/x-python",
   "name": "python",
   "nbconvert_exporter": "python",
   "pygments_lexer": "ipython3",
   "version": "3.11.5"
  },
  "orig_nbformat": 4
 },
 "nbformat": 4,
 "nbformat_minor": 2
}
